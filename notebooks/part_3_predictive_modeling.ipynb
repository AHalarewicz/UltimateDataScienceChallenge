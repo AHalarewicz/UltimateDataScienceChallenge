{
 "cells": [
  {
   "cell_type": "code",
   "execution_count": 1,
   "metadata": {},
   "outputs": [],
   "source": [
    "import json\n",
    "import pandas as pd\n",
    "from datetime import datetime, timedelta\n",
    "from sklearn.preprocessing import scale\n",
    "from sklearn.model_selection import train_test_split\n",
    "from sklearn.ensemble import RandomForestClassifier\n",
    "from sklearn.linear_model import LogisticRegression, Lasso\n",
    "from sklearn.metrics import accuracy_score, confusion_matrix\n",
    "from sklearn.metrics import roc_curve, roc_auc_score, classification_report\n",
    "import matplotlib.pyplot as plt"
   ]
  },
  {
   "cell_type": "code",
   "execution_count": 2,
   "metadata": {},
   "outputs": [],
   "source": [
    "# specify location of data file\n",
    "file_path = '../ultimate_challenge/ultimate_data_challenge.json'"
   ]
  },
  {
   "cell_type": "code",
   "execution_count": 3,
   "metadata": {
    "scrolled": true
   },
   "outputs": [
    {
     "name": "stdout",
     "output_type": "stream",
     "text": [
      "<class 'pandas.core.frame.DataFrame'>\n",
      "RangeIndex: 50000 entries, 0 to 49999\n",
      "Data columns (total 12 columns):\n",
      "avg_dist                  50000 non-null float64\n",
      "avg_rating_by_driver      49799 non-null float64\n",
      "avg_rating_of_driver      41878 non-null float64\n",
      "avg_surge                 50000 non-null float64\n",
      "city                      50000 non-null object\n",
      "last_trip_date            50000 non-null object\n",
      "phone                     49604 non-null object\n",
      "signup_date               50000 non-null object\n",
      "surge_pct                 50000 non-null float64\n",
      "trips_in_first_30_days    50000 non-null int64\n",
      "ultimate_black_user       50000 non-null bool\n",
      "weekday_pct               50000 non-null float64\n",
      "dtypes: bool(1), float64(6), int64(1), object(4)\n",
      "memory usage: 4.2+ MB\n"
     ]
    }
   ],
   "source": [
    "# load JSON data as dataframe\n",
    "json_data = json.load(open(file_path))\n",
    "rider_df = pd.DataFrame(json_data)\n",
    "rider_df.info()"
   ]
  },
  {
   "cell_type": "code",
   "execution_count": 4,
   "metadata": {},
   "outputs": [
    {
     "data": {
      "text/html": [
       "<div>\n",
       "<style scoped>\n",
       "    .dataframe tbody tr th:only-of-type {\n",
       "        vertical-align: middle;\n",
       "    }\n",
       "\n",
       "    .dataframe tbody tr th {\n",
       "        vertical-align: top;\n",
       "    }\n",
       "\n",
       "    .dataframe thead th {\n",
       "        text-align: right;\n",
       "    }\n",
       "</style>\n",
       "<table border=\"1\" class=\"dataframe\">\n",
       "  <thead>\n",
       "    <tr style=\"text-align: right;\">\n",
       "      <th></th>\n",
       "      <th>avg_dist</th>\n",
       "      <th>avg_rating_by_driver</th>\n",
       "      <th>avg_rating_of_driver</th>\n",
       "      <th>avg_surge</th>\n",
       "      <th>city</th>\n",
       "      <th>last_trip_date</th>\n",
       "      <th>phone</th>\n",
       "      <th>signup_date</th>\n",
       "      <th>surge_pct</th>\n",
       "      <th>trips_in_first_30_days</th>\n",
       "      <th>ultimate_black_user</th>\n",
       "      <th>weekday_pct</th>\n",
       "    </tr>\n",
       "  </thead>\n",
       "  <tbody>\n",
       "    <tr>\n",
       "      <th>0</th>\n",
       "      <td>3.67</td>\n",
       "      <td>5.0</td>\n",
       "      <td>4.7</td>\n",
       "      <td>1.10</td>\n",
       "      <td>King's Landing</td>\n",
       "      <td>2014-06-17</td>\n",
       "      <td>iPhone</td>\n",
       "      <td>2014-01-25</td>\n",
       "      <td>15.4</td>\n",
       "      <td>4</td>\n",
       "      <td>True</td>\n",
       "      <td>46.2</td>\n",
       "    </tr>\n",
       "    <tr>\n",
       "      <th>1</th>\n",
       "      <td>8.26</td>\n",
       "      <td>5.0</td>\n",
       "      <td>5.0</td>\n",
       "      <td>1.00</td>\n",
       "      <td>Astapor</td>\n",
       "      <td>2014-05-05</td>\n",
       "      <td>Android</td>\n",
       "      <td>2014-01-29</td>\n",
       "      <td>0.0</td>\n",
       "      <td>0</td>\n",
       "      <td>False</td>\n",
       "      <td>50.0</td>\n",
       "    </tr>\n",
       "    <tr>\n",
       "      <th>2</th>\n",
       "      <td>0.77</td>\n",
       "      <td>5.0</td>\n",
       "      <td>4.3</td>\n",
       "      <td>1.00</td>\n",
       "      <td>Astapor</td>\n",
       "      <td>2014-01-07</td>\n",
       "      <td>iPhone</td>\n",
       "      <td>2014-01-06</td>\n",
       "      <td>0.0</td>\n",
       "      <td>3</td>\n",
       "      <td>False</td>\n",
       "      <td>100.0</td>\n",
       "    </tr>\n",
       "    <tr>\n",
       "      <th>3</th>\n",
       "      <td>2.36</td>\n",
       "      <td>4.9</td>\n",
       "      <td>4.6</td>\n",
       "      <td>1.14</td>\n",
       "      <td>King's Landing</td>\n",
       "      <td>2014-06-29</td>\n",
       "      <td>iPhone</td>\n",
       "      <td>2014-01-10</td>\n",
       "      <td>20.0</td>\n",
       "      <td>9</td>\n",
       "      <td>True</td>\n",
       "      <td>80.0</td>\n",
       "    </tr>\n",
       "    <tr>\n",
       "      <th>4</th>\n",
       "      <td>3.13</td>\n",
       "      <td>4.9</td>\n",
       "      <td>4.4</td>\n",
       "      <td>1.19</td>\n",
       "      <td>Winterfell</td>\n",
       "      <td>2014-03-15</td>\n",
       "      <td>Android</td>\n",
       "      <td>2014-01-27</td>\n",
       "      <td>11.8</td>\n",
       "      <td>14</td>\n",
       "      <td>False</td>\n",
       "      <td>82.4</td>\n",
       "    </tr>\n",
       "    <tr>\n",
       "      <th>...</th>\n",
       "      <td>...</td>\n",
       "      <td>...</td>\n",
       "      <td>...</td>\n",
       "      <td>...</td>\n",
       "      <td>...</td>\n",
       "      <td>...</td>\n",
       "      <td>...</td>\n",
       "      <td>...</td>\n",
       "      <td>...</td>\n",
       "      <td>...</td>\n",
       "      <td>...</td>\n",
       "      <td>...</td>\n",
       "    </tr>\n",
       "    <tr>\n",
       "      <th>49995</th>\n",
       "      <td>5.63</td>\n",
       "      <td>4.2</td>\n",
       "      <td>5.0</td>\n",
       "      <td>1.00</td>\n",
       "      <td>King's Landing</td>\n",
       "      <td>2014-06-05</td>\n",
       "      <td>iPhone</td>\n",
       "      <td>2014-01-25</td>\n",
       "      <td>0.0</td>\n",
       "      <td>0</td>\n",
       "      <td>False</td>\n",
       "      <td>100.0</td>\n",
       "    </tr>\n",
       "    <tr>\n",
       "      <th>49996</th>\n",
       "      <td>0.00</td>\n",
       "      <td>4.0</td>\n",
       "      <td>NaN</td>\n",
       "      <td>1.00</td>\n",
       "      <td>Astapor</td>\n",
       "      <td>2014-01-25</td>\n",
       "      <td>iPhone</td>\n",
       "      <td>2014-01-24</td>\n",
       "      <td>0.0</td>\n",
       "      <td>1</td>\n",
       "      <td>False</td>\n",
       "      <td>0.0</td>\n",
       "    </tr>\n",
       "    <tr>\n",
       "      <th>49997</th>\n",
       "      <td>3.86</td>\n",
       "      <td>5.0</td>\n",
       "      <td>5.0</td>\n",
       "      <td>1.00</td>\n",
       "      <td>Winterfell</td>\n",
       "      <td>2014-05-22</td>\n",
       "      <td>Android</td>\n",
       "      <td>2014-01-31</td>\n",
       "      <td>0.0</td>\n",
       "      <td>0</td>\n",
       "      <td>True</td>\n",
       "      <td>100.0</td>\n",
       "    </tr>\n",
       "    <tr>\n",
       "      <th>49998</th>\n",
       "      <td>4.58</td>\n",
       "      <td>3.5</td>\n",
       "      <td>3.0</td>\n",
       "      <td>1.00</td>\n",
       "      <td>Astapor</td>\n",
       "      <td>2014-01-15</td>\n",
       "      <td>iPhone</td>\n",
       "      <td>2014-01-14</td>\n",
       "      <td>0.0</td>\n",
       "      <td>2</td>\n",
       "      <td>False</td>\n",
       "      <td>100.0</td>\n",
       "    </tr>\n",
       "    <tr>\n",
       "      <th>49999</th>\n",
       "      <td>3.49</td>\n",
       "      <td>5.0</td>\n",
       "      <td>NaN</td>\n",
       "      <td>1.00</td>\n",
       "      <td>Astapor</td>\n",
       "      <td>2014-04-20</td>\n",
       "      <td>Android</td>\n",
       "      <td>2014-01-18</td>\n",
       "      <td>0.0</td>\n",
       "      <td>0</td>\n",
       "      <td>False</td>\n",
       "      <td>0.0</td>\n",
       "    </tr>\n",
       "  </tbody>\n",
       "</table>\n",
       "<p>50000 rows × 12 columns</p>\n",
       "</div>"
      ],
      "text/plain": [
       "       avg_dist  avg_rating_by_driver  avg_rating_of_driver  avg_surge  \\\n",
       "0          3.67                   5.0                   4.7       1.10   \n",
       "1          8.26                   5.0                   5.0       1.00   \n",
       "2          0.77                   5.0                   4.3       1.00   \n",
       "3          2.36                   4.9                   4.6       1.14   \n",
       "4          3.13                   4.9                   4.4       1.19   \n",
       "...         ...                   ...                   ...        ...   \n",
       "49995      5.63                   4.2                   5.0       1.00   \n",
       "49996      0.00                   4.0                   NaN       1.00   \n",
       "49997      3.86                   5.0                   5.0       1.00   \n",
       "49998      4.58                   3.5                   3.0       1.00   \n",
       "49999      3.49                   5.0                   NaN       1.00   \n",
       "\n",
       "                 city last_trip_date    phone signup_date  surge_pct  \\\n",
       "0      King's Landing     2014-06-17   iPhone  2014-01-25       15.4   \n",
       "1             Astapor     2014-05-05  Android  2014-01-29        0.0   \n",
       "2             Astapor     2014-01-07   iPhone  2014-01-06        0.0   \n",
       "3      King's Landing     2014-06-29   iPhone  2014-01-10       20.0   \n",
       "4          Winterfell     2014-03-15  Android  2014-01-27       11.8   \n",
       "...               ...            ...      ...         ...        ...   \n",
       "49995  King's Landing     2014-06-05   iPhone  2014-01-25        0.0   \n",
       "49996         Astapor     2014-01-25   iPhone  2014-01-24        0.0   \n",
       "49997      Winterfell     2014-05-22  Android  2014-01-31        0.0   \n",
       "49998         Astapor     2014-01-15   iPhone  2014-01-14        0.0   \n",
       "49999         Astapor     2014-04-20  Android  2014-01-18        0.0   \n",
       "\n",
       "       trips_in_first_30_days  ultimate_black_user  weekday_pct  \n",
       "0                           4                 True         46.2  \n",
       "1                           0                False         50.0  \n",
       "2                           3                False        100.0  \n",
       "3                           9                 True         80.0  \n",
       "4                          14                False         82.4  \n",
       "...                       ...                  ...          ...  \n",
       "49995                       0                False        100.0  \n",
       "49996                       1                False          0.0  \n",
       "49997                       0                 True        100.0  \n",
       "49998                       2                False        100.0  \n",
       "49999                       0                False          0.0  \n",
       "\n",
       "[50000 rows x 12 columns]"
      ]
     },
     "execution_count": 4,
     "metadata": {},
     "output_type": "execute_result"
    }
   ],
   "source": [
    "# inspect initial dataFrame\n",
    "rider_df"
   ]
  },
  {
   "cell_type": "markdown",
   "metadata": {},
   "source": [
    "### Clean Data"
   ]
  },
  {
   "cell_type": "code",
   "execution_count": 5,
   "metadata": {
    "scrolled": true
   },
   "outputs": [],
   "source": [
    "# convert last_trip_date and signup_date columns to datetime objects\n",
    "rider_df.last_trip_date = pd.to_datetime(rider_df.last_trip_date)\n",
    "rider_df.signup_date = pd.to_datetime(rider_df.signup_date)\n",
    "\n",
    "# fill rows containing missing ratings\n",
    "# compute average rating given by all drivers\n",
    "mean_rating_by_driver = rider_df.avg_rating_by_driver.mean()\n",
    "\n",
    "# fill average rating by driver with average rating of driver.\n",
    "rider_df.avg_rating_by_driver = rider_df.avg_rating_by_driver.fillna(rider_df.avg_rating_of_driver)\n",
    "\n",
    "# fill remaining missing values with oringinal mean of ratings given by drivers\n",
    "rider_df.avg_rating_by_driver = rider_df.avg_rating_by_driver.fillna(mean_rating_by_driver)\n",
    "\n",
    "# fill missing average rating of driver with average rating by driver\n",
    "rider_df.avg_rating_of_driver = rider_df.avg_rating_of_driver.fillna(rider_df.avg_rating_by_driver)\n",
    "\n",
    "# if iPhone or Android not specified, insert \"other\"\n",
    "rider_df.phone = rider_df.phone.fillna('other')\n",
    "\n",
    "# fix \"King's Landing\" : remove apostrophe\n",
    "rider_df.city = rider_df.city.replace(to_replace=\"King's Landing\", value=\"Kings_Landing\")"
   ]
  },
  {
   "cell_type": "markdown",
   "metadata": {},
   "source": [
    "#### Compute the ratio and number of users retained. User is considered retained if the user rode in the last 30 days. "
   ]
  },
  {
   "cell_type": "code",
   "execution_count": 6,
   "metadata": {},
   "outputs": [],
   "source": [
    "def rode_recently(last_ride):\n",
    "    \"\"\"\n",
    "    Param: date of last activity\n",
    "    Used with map() to compute if user was active in the last 30 days\n",
    "    Returns: boolean (1 or 0)\n",
    "    \"\"\"\n",
    "    current_day = rider_df.last_trip_date.max()\n",
    "    last_30_days = current_day - timedelta(days=30)\n",
    "    \n",
    "    return (last_ride>=last_30_days)*1"
   ]
  },
  {
   "cell_type": "code",
   "execution_count": 7,
   "metadata": {},
   "outputs": [
    {
     "name": "stdout",
     "output_type": "stream",
     "text": [
      "Percent of riders retained:  0.37608\n",
      "Total riders retained:  18804 of 50000\n"
     ]
    }
   ],
   "source": [
    "# create column describing retention of users\n",
    "rider_df['retained'] = rider_df.last_trip_date.map(rode_recently)\n",
    "print(\"Percent of riders retained: \",rider_df.retained.mean())\n",
    "print(\"Total riders retained: \", rider_df.retained.sum(), \"of\", len(rider_df.retained))"
   ]
  },
  {
   "cell_type": "code",
   "execution_count": 8,
   "metadata": {},
   "outputs": [
    {
     "data": {
      "text/html": [
       "<div>\n",
       "<style scoped>\n",
       "    .dataframe tbody tr th:only-of-type {\n",
       "        vertical-align: middle;\n",
       "    }\n",
       "\n",
       "    .dataframe tbody tr th {\n",
       "        vertical-align: top;\n",
       "    }\n",
       "\n",
       "    .dataframe thead th {\n",
       "        text-align: right;\n",
       "    }\n",
       "</style>\n",
       "<table border=\"1\" class=\"dataframe\">\n",
       "  <thead>\n",
       "    <tr style=\"text-align: right;\">\n",
       "      <th></th>\n",
       "      <th>avg_dist</th>\n",
       "      <th>avg_rating_by_driver</th>\n",
       "      <th>avg_rating_of_driver</th>\n",
       "      <th>avg_surge</th>\n",
       "      <th>city</th>\n",
       "      <th>last_trip_date</th>\n",
       "      <th>phone</th>\n",
       "      <th>signup_date</th>\n",
       "      <th>surge_pct</th>\n",
       "      <th>trips_in_first_30_days</th>\n",
       "      <th>ultimate_black_user</th>\n",
       "      <th>weekday_pct</th>\n",
       "      <th>retained</th>\n",
       "      <th>days_since_signup</th>\n",
       "      <th>days_active</th>\n",
       "    </tr>\n",
       "  </thead>\n",
       "  <tbody>\n",
       "    <tr>\n",
       "      <th>0</th>\n",
       "      <td>3.67</td>\n",
       "      <td>5.0</td>\n",
       "      <td>4.7</td>\n",
       "      <td>1.10</td>\n",
       "      <td>Kings_Landing</td>\n",
       "      <td>2014-06-17</td>\n",
       "      <td>iPhone</td>\n",
       "      <td>2014-01-25</td>\n",
       "      <td>15.4</td>\n",
       "      <td>4</td>\n",
       "      <td>True</td>\n",
       "      <td>46.2</td>\n",
       "      <td>1</td>\n",
       "      <td>157</td>\n",
       "      <td>113</td>\n",
       "    </tr>\n",
       "    <tr>\n",
       "      <th>1</th>\n",
       "      <td>8.26</td>\n",
       "      <td>5.0</td>\n",
       "      <td>5.0</td>\n",
       "      <td>1.00</td>\n",
       "      <td>Astapor</td>\n",
       "      <td>2014-05-05</td>\n",
       "      <td>Android</td>\n",
       "      <td>2014-01-29</td>\n",
       "      <td>0.0</td>\n",
       "      <td>0</td>\n",
       "      <td>False</td>\n",
       "      <td>50.0</td>\n",
       "      <td>0</td>\n",
       "      <td>153</td>\n",
       "      <td>66</td>\n",
       "    </tr>\n",
       "    <tr>\n",
       "      <th>2</th>\n",
       "      <td>0.77</td>\n",
       "      <td>5.0</td>\n",
       "      <td>4.3</td>\n",
       "      <td>1.00</td>\n",
       "      <td>Astapor</td>\n",
       "      <td>2014-01-07</td>\n",
       "      <td>iPhone</td>\n",
       "      <td>2014-01-06</td>\n",
       "      <td>0.0</td>\n",
       "      <td>3</td>\n",
       "      <td>False</td>\n",
       "      <td>100.0</td>\n",
       "      <td>0</td>\n",
       "      <td>176</td>\n",
       "      <td>0</td>\n",
       "    </tr>\n",
       "    <tr>\n",
       "      <th>3</th>\n",
       "      <td>2.36</td>\n",
       "      <td>4.9</td>\n",
       "      <td>4.6</td>\n",
       "      <td>1.14</td>\n",
       "      <td>Kings_Landing</td>\n",
       "      <td>2014-06-29</td>\n",
       "      <td>iPhone</td>\n",
       "      <td>2014-01-10</td>\n",
       "      <td>20.0</td>\n",
       "      <td>9</td>\n",
       "      <td>True</td>\n",
       "      <td>80.0</td>\n",
       "      <td>1</td>\n",
       "      <td>172</td>\n",
       "      <td>140</td>\n",
       "    </tr>\n",
       "    <tr>\n",
       "      <th>4</th>\n",
       "      <td>3.13</td>\n",
       "      <td>4.9</td>\n",
       "      <td>4.4</td>\n",
       "      <td>1.19</td>\n",
       "      <td>Winterfell</td>\n",
       "      <td>2014-03-15</td>\n",
       "      <td>Android</td>\n",
       "      <td>2014-01-27</td>\n",
       "      <td>11.8</td>\n",
       "      <td>14</td>\n",
       "      <td>False</td>\n",
       "      <td>82.4</td>\n",
       "      <td>0</td>\n",
       "      <td>155</td>\n",
       "      <td>17</td>\n",
       "    </tr>\n",
       "    <tr>\n",
       "      <th>...</th>\n",
       "      <td>...</td>\n",
       "      <td>...</td>\n",
       "      <td>...</td>\n",
       "      <td>...</td>\n",
       "      <td>...</td>\n",
       "      <td>...</td>\n",
       "      <td>...</td>\n",
       "      <td>...</td>\n",
       "      <td>...</td>\n",
       "      <td>...</td>\n",
       "      <td>...</td>\n",
       "      <td>...</td>\n",
       "      <td>...</td>\n",
       "      <td>...</td>\n",
       "      <td>...</td>\n",
       "    </tr>\n",
       "    <tr>\n",
       "      <th>49995</th>\n",
       "      <td>5.63</td>\n",
       "      <td>4.2</td>\n",
       "      <td>5.0</td>\n",
       "      <td>1.00</td>\n",
       "      <td>Kings_Landing</td>\n",
       "      <td>2014-06-05</td>\n",
       "      <td>iPhone</td>\n",
       "      <td>2014-01-25</td>\n",
       "      <td>0.0</td>\n",
       "      <td>0</td>\n",
       "      <td>False</td>\n",
       "      <td>100.0</td>\n",
       "      <td>1</td>\n",
       "      <td>157</td>\n",
       "      <td>101</td>\n",
       "    </tr>\n",
       "    <tr>\n",
       "      <th>49996</th>\n",
       "      <td>0.00</td>\n",
       "      <td>4.0</td>\n",
       "      <td>4.0</td>\n",
       "      <td>1.00</td>\n",
       "      <td>Astapor</td>\n",
       "      <td>2014-01-25</td>\n",
       "      <td>iPhone</td>\n",
       "      <td>2014-01-24</td>\n",
       "      <td>0.0</td>\n",
       "      <td>1</td>\n",
       "      <td>False</td>\n",
       "      <td>0.0</td>\n",
       "      <td>0</td>\n",
       "      <td>158</td>\n",
       "      <td>0</td>\n",
       "    </tr>\n",
       "    <tr>\n",
       "      <th>49997</th>\n",
       "      <td>3.86</td>\n",
       "      <td>5.0</td>\n",
       "      <td>5.0</td>\n",
       "      <td>1.00</td>\n",
       "      <td>Winterfell</td>\n",
       "      <td>2014-05-22</td>\n",
       "      <td>Android</td>\n",
       "      <td>2014-01-31</td>\n",
       "      <td>0.0</td>\n",
       "      <td>0</td>\n",
       "      <td>True</td>\n",
       "      <td>100.0</td>\n",
       "      <td>0</td>\n",
       "      <td>151</td>\n",
       "      <td>81</td>\n",
       "    </tr>\n",
       "    <tr>\n",
       "      <th>49998</th>\n",
       "      <td>4.58</td>\n",
       "      <td>3.5</td>\n",
       "      <td>3.0</td>\n",
       "      <td>1.00</td>\n",
       "      <td>Astapor</td>\n",
       "      <td>2014-01-15</td>\n",
       "      <td>iPhone</td>\n",
       "      <td>2014-01-14</td>\n",
       "      <td>0.0</td>\n",
       "      <td>2</td>\n",
       "      <td>False</td>\n",
       "      <td>100.0</td>\n",
       "      <td>0</td>\n",
       "      <td>168</td>\n",
       "      <td>0</td>\n",
       "    </tr>\n",
       "    <tr>\n",
       "      <th>49999</th>\n",
       "      <td>3.49</td>\n",
       "      <td>5.0</td>\n",
       "      <td>5.0</td>\n",
       "      <td>1.00</td>\n",
       "      <td>Astapor</td>\n",
       "      <td>2014-04-20</td>\n",
       "      <td>Android</td>\n",
       "      <td>2014-01-18</td>\n",
       "      <td>0.0</td>\n",
       "      <td>0</td>\n",
       "      <td>False</td>\n",
       "      <td>0.0</td>\n",
       "      <td>0</td>\n",
       "      <td>164</td>\n",
       "      <td>62</td>\n",
       "    </tr>\n",
       "  </tbody>\n",
       "</table>\n",
       "<p>50000 rows × 15 columns</p>\n",
       "</div>"
      ],
      "text/plain": [
       "       avg_dist  avg_rating_by_driver  avg_rating_of_driver  avg_surge  \\\n",
       "0          3.67                   5.0                   4.7       1.10   \n",
       "1          8.26                   5.0                   5.0       1.00   \n",
       "2          0.77                   5.0                   4.3       1.00   \n",
       "3          2.36                   4.9                   4.6       1.14   \n",
       "4          3.13                   4.9                   4.4       1.19   \n",
       "...         ...                   ...                   ...        ...   \n",
       "49995      5.63                   4.2                   5.0       1.00   \n",
       "49996      0.00                   4.0                   4.0       1.00   \n",
       "49997      3.86                   5.0                   5.0       1.00   \n",
       "49998      4.58                   3.5                   3.0       1.00   \n",
       "49999      3.49                   5.0                   5.0       1.00   \n",
       "\n",
       "                city last_trip_date    phone signup_date  surge_pct  \\\n",
       "0      Kings_Landing     2014-06-17   iPhone  2014-01-25       15.4   \n",
       "1            Astapor     2014-05-05  Android  2014-01-29        0.0   \n",
       "2            Astapor     2014-01-07   iPhone  2014-01-06        0.0   \n",
       "3      Kings_Landing     2014-06-29   iPhone  2014-01-10       20.0   \n",
       "4         Winterfell     2014-03-15  Android  2014-01-27       11.8   \n",
       "...              ...            ...      ...         ...        ...   \n",
       "49995  Kings_Landing     2014-06-05   iPhone  2014-01-25        0.0   \n",
       "49996        Astapor     2014-01-25   iPhone  2014-01-24        0.0   \n",
       "49997     Winterfell     2014-05-22  Android  2014-01-31        0.0   \n",
       "49998        Astapor     2014-01-15   iPhone  2014-01-14        0.0   \n",
       "49999        Astapor     2014-04-20  Android  2014-01-18        0.0   \n",
       "\n",
       "       trips_in_first_30_days  ultimate_black_user  weekday_pct  retained  \\\n",
       "0                           4                 True         46.2         1   \n",
       "1                           0                False         50.0         0   \n",
       "2                           3                False        100.0         0   \n",
       "3                           9                 True         80.0         1   \n",
       "4                          14                False         82.4         0   \n",
       "...                       ...                  ...          ...       ...   \n",
       "49995                       0                False        100.0         1   \n",
       "49996                       1                False          0.0         0   \n",
       "49997                       0                 True        100.0         0   \n",
       "49998                       2                False        100.0         0   \n",
       "49999                       0                False          0.0         0   \n",
       "\n",
       "       days_since_signup  days_active  \n",
       "0                    157          113  \n",
       "1                    153           66  \n",
       "2                    176            0  \n",
       "3                    172          140  \n",
       "4                    155           17  \n",
       "...                  ...          ...  \n",
       "49995                157          101  \n",
       "49996                158            0  \n",
       "49997                151           81  \n",
       "49998                168            0  \n",
       "49999                164           62  \n",
       "\n",
       "[50000 rows x 15 columns]"
      ]
     },
     "execution_count": 8,
     "metadata": {},
     "output_type": "execute_result"
    }
   ],
   "source": [
    "# define current day outside of the function for efficiency when mapping\n",
    "current_day = rider_df.last_trip_date.max()\n",
    "def days_since(date):\n",
    "    \"\"\"\n",
    "    returns the number of days since a given date\n",
    "    \"\"\"\n",
    "    return (current_day - date).days\n",
    "    \n",
    "# create 'days_since' columns\n",
    "rider_df['days_since_signup'] = rider_df.signup_date.map(days_since)\n",
    "\n",
    "# compute number of days user has been active\n",
    "rider_df['days_active'] = (rider_df.last_trip_date - rider_df.signup_date).map(lambda delta: delta.days)\n",
    "#rider_df.days_active = rider_df.days_active.map(lambda days: (days-30 if days>= 30 else 0))\n",
    "\n",
    "# This columns creates an overly optimistic model.\n",
    "# It is a direct indicator of the value the model is trying to predict.\n",
    "# if 'days_since_last_trip' <= 30 days, the user is retained.\n",
    "#rider_df['days_since_last_trip'] = rider_df.last_trip_date.map(days_since) #this is a direct indicator of the value we are trying to predict\n",
    "rider_df"
   ]
  },
  {
   "cell_type": "code",
   "execution_count": 9,
   "metadata": {},
   "outputs": [
    {
     "name": "stdout",
     "output_type": "stream",
     "text": [
      "<class 'pandas.core.frame.DataFrame'>\n",
      "RangeIndex: 50000 entries, 0 to 49999\n",
      "Data columns (total 17 columns):\n",
      "avg_dist                  50000 non-null float64\n",
      "avg_rating_by_driver      50000 non-null float64\n",
      "avg_rating_of_driver      50000 non-null float64\n",
      "avg_surge                 50000 non-null float64\n",
      "surge_pct                 50000 non-null float64\n",
      "trips_in_first_30_days    50000 non-null int64\n",
      "ultimate_black_user       50000 non-null int64\n",
      "weekday_pct               50000 non-null float64\n",
      "retained                  50000 non-null int64\n",
      "days_since_signup         50000 non-null int64\n",
      "days_active               50000 non-null int64\n",
      "city_Astapor              50000 non-null uint8\n",
      "city_Kings_Landing        50000 non-null uint8\n",
      "city_Winterfell           50000 non-null uint8\n",
      "phone_Android             50000 non-null uint8\n",
      "phone_iPhone              50000 non-null uint8\n",
      "phone_other               50000 non-null uint8\n",
      "dtypes: float64(6), int64(5), uint8(6)\n",
      "memory usage: 4.5 MB\n"
     ]
    }
   ],
   "source": [
    "def replace_with_dummies(df, columns):\n",
    "    \"\"\"\n",
    "    Takes a df and a list of categorial columns with discrete values\n",
    "    Returns a df with categorical columns replaced with binary columns\n",
    "    \"\"\"\n",
    "    for col in columns:\n",
    "        temp_df= df[[col]]\n",
    "        temp_df = pd.get_dummies(temp_df)\n",
    "        df[temp_df.columns] = temp_df\n",
    "        df = df.drop(col, axis=1)\n",
    "    return df\n",
    "\n",
    "# one hot encode categorical columns\n",
    "rider_df = replace_with_dummies(rider_df, ['city', 'phone'])\n",
    "\n",
    "# convert ultimate_black_user to numberic boolean column\n",
    "rider_df.ultimate_black_user = rider_df.ultimate_black_user*1\n",
    "\n",
    "# drop datetime columns\n",
    "rider_df = rider_df.drop(['last_trip_date', 'signup_date'], axis=1)\n",
    "# inspect the dataframe\n",
    "rider_df.info()\n"
   ]
  },
  {
   "cell_type": "markdown",
   "metadata": {},
   "source": [
    "### Train Random Forrest Classifier"
   ]
  },
  {
   "cell_type": "code",
   "execution_count": 10,
   "metadata": {},
   "outputs": [],
   "source": [
    "# specify predictors and targets\n",
    "predictors_rf = rider_df.drop(['retained'], axis=\"columns\").values\n",
    "targets_rf = rider_df.retained.values\n",
    "\n",
    "# split train and test data\n",
    "X_train_rf, X_test_rf, y_train_rf, y_test_rf = train_test_split(predictors_rf, targets_rf, test_size=0.25, random_state=5)\n"
   ]
  },
  {
   "cell_type": "code",
   "execution_count": 11,
   "metadata": {},
   "outputs": [
    {
     "name": "stdout",
     "output_type": "stream",
     "text": [
      "evaluating Random Forrest model performance\n",
      "0.82904\n"
     ]
    }
   ],
   "source": [
    "# instantiate random forest classifier\n",
    "random_forest = RandomForestClassifier(max_depth=True)\n",
    "\n",
    "# fit model to training data\n",
    "random_forest = random_forest.fit(X_train_rf, y_train_rf)\n",
    "\n",
    "# test model performance\n",
    "print('evaluating Random Forrest model performance')\n",
    "score_rf = random_forest.score(X_test_rf, y_test_rf)\n",
    "print(score_rf)\n"
   ]
  },
  {
   "cell_type": "code",
   "execution_count": 12,
   "metadata": {},
   "outputs": [],
   "source": [
    "def evaluate_classifier(model, X_test, y_test):\n",
    "    \n",
    "    \"\"\"\n",
    "    Takes a model and its test data.\n",
    "    Prints and returns model metrics.\n",
    "    \"\"\"\n",
    "    \n",
    "    # get predictions\n",
    "    y_pred = model.predict(X_test)\n",
    "    \n",
    "    # Compute predicted probabilities: y_pred_prob\n",
    "    y_pred_prob = model.predict_proba(X_test)[:,1]\n",
    "    \n",
    "    # compute Area under the curve\n",
    "    roc_auc = roc_auc_score(y_test, y_pred)\n",
    "    \n",
    "    # Generate ROC curve values: fpr, tpr, thresholds\n",
    "    fpr, tpr, thresholds = roc_curve(y_test, y_pred_prob)\n",
    "    \n",
    "    # plot ROC curve\n",
    "    title = 'ROC Curve:  AUC =' + str(roc_auc.round(3))\n",
    "    _ = plt.figure(figsize=(5,5))\n",
    "    _ = plt.plot(fpr, tpr)\n",
    "    _ = plt.plot([0,1], [0,1], 'k--')\n",
    "    _ = plt.xlabel('False Positive Rate (FPR)')\n",
    "    _ = plt.ylabel('True Positive Rate (TPR)')\n",
    "    _ = plt.title(title)\n",
    "    _ = plt.legend(['predictive power','random vector'])\n",
    "    # show plot when function is called, plot not returned\n",
    "    plt.show()   \n",
    "    \n",
    "    \n",
    "    # construct confusion matrix\n",
    "    conf_matrx = pd.DataFrame(confusion_matrix(y_test, y_pred))\n",
    "    conf_matrx.columns = ['Predict: NO', 'Predict: YES']\n",
    "    conf_matrx.index = ['Actual: NO', 'Actual: YES']\n",
    "    \n",
    "    # get classification report\n",
    "    report = classification_report(y_test, y_pred)\n",
    "    \n",
    "    return conf_matrx, report"
   ]
  },
  {
   "cell_type": "code",
   "execution_count": 13,
   "metadata": {},
   "outputs": [
    {
     "data": {
      "image/png": "[encoded data removed]",
      "text/plain": [
       "<Figure size 360x360 with 1 Axes>"
      ]
     },
     "metadata": {
      "needs_background": "light"
     },
     "output_type": "display_data"
    },
    {
     "name": "stdout",
     "output_type": "stream",
     "text": [
      "              precision    recall  f1-score   support\n",
      "\n",
      "           0       0.79      0.99      0.88      7812\n",
      "           1       0.96      0.57      0.71      4688\n",
      "\n",
      "    accuracy                           0.83     12500\n",
      "   macro avg       0.88      0.78      0.80     12500\n",
      "weighted avg       0.85      0.83      0.82     12500\n",
      "\n"
     ]
    },
    {
     "data": {
      "text/html": [
       "<div>\n",
       "<style scoped>\n",
       "    .dataframe tbody tr th:only-of-type {\n",
       "        vertical-align: middle;\n",
       "    }\n",
       "\n",
       "    .dataframe tbody tr th {\n",
       "        vertical-align: top;\n",
       "    }\n",
       "\n",
       "    .dataframe thead th {\n",
       "        text-align: right;\n",
       "    }\n",
       "</style>\n",
       "<table border=\"1\" class=\"dataframe\">\n",
       "  <thead>\n",
       "    <tr style=\"text-align: right;\">\n",
       "      <th></th>\n",
       "      <th>Predict: NO</th>\n",
       "      <th>Predict: YES</th>\n",
       "    </tr>\n",
       "  </thead>\n",
       "  <tbody>\n",
       "    <tr>\n",
       "      <th>Actual: NO</th>\n",
       "      <td>7696</td>\n",
       "      <td>116</td>\n",
       "    </tr>\n",
       "    <tr>\n",
       "      <th>Actual: YES</th>\n",
       "      <td>2021</td>\n",
       "      <td>2667</td>\n",
       "    </tr>\n",
       "  </tbody>\n",
       "</table>\n",
       "</div>"
      ],
      "text/plain": [
       "             Predict: NO  Predict: YES\n",
       "Actual: NO          7696           116\n",
       "Actual: YES         2021          2667"
      ]
     },
     "execution_count": 13,
     "metadata": {},
     "output_type": "execute_result"
    }
   ],
   "source": [
    "# evaluate the random forest classifier\n",
    "matrix, report = evaluate_classifier(random_forest, X_test_rf, y_test_rf)\n",
    "print(report)\n",
    "matrix"
   ]
  },
  {
   "cell_type": "markdown",
   "metadata": {},
   "source": [
    "### Train a Logistic Regression Classifier"
   ]
  },
  {
   "cell_type": "markdown",
   "metadata": {},
   "source": [
    "#### First without the 'days_active' column created from the provided dates. Inspect the model's performance with only feature provided in the inital json data."
   ]
  },
  {
   "cell_type": "code",
   "execution_count": 14,
   "metadata": {},
   "outputs": [],
   "source": [
    "# specify feature columns\n",
    "features = ['avg_dist', 'avg_rating_by_driver', 'avg_rating_of_driver', 'avg_surge',\n",
    "            'surge_pct', 'trips_in_first_30_days', 'ultimate_black_user', 'weekday_pct', \n",
    "            'city_Astapor', \"city_Kings_Landing\", 'city_Winterfell', 'phone_Android',\n",
    "            'phone_iPhone', 'phone_other', 'days_since_signup']"
   ]
  },
  {
   "cell_type": "code",
   "execution_count": 15,
   "metadata": {},
   "outputs": [],
   "source": [
    "\n",
    "\n",
    "# separate predictors and targets\n",
    "predictors_lr = rider_df[features].values\n",
    "targets_lr = (rider_df.retained).values"
   ]
  },
  {
   "cell_type": "code",
   "execution_count": 16,
   "metadata": {},
   "outputs": [],
   "source": [
    "# scale predictors\n",
    "predictors_lr = scale(predictors_lr)"
   ]
  },
  {
   "cell_type": "code",
   "execution_count": 17,
   "metadata": {},
   "outputs": [
    {
     "name": "stdout",
     "output_type": "stream",
     "text": [
      "0.72136\n"
     ]
    }
   ],
   "source": [
    "# Split the data into a training and test set.\n",
    "X_train_lr, X_test_lr, y_train_lr, y_test_lr = train_test_split(predictors_lr, targets_lr, test_size=0.25, random_state=5)\n",
    "\n",
    "# instantiate an L.R. Classifier\n",
    "clf = LogisticRegression(solver='lbfgs')\n",
    "\n",
    "# Fit the model on the trainng data.\n",
    "clf.fit(X_train_lr, y_train_lr)\n",
    "\n",
    "# predict on test set\n",
    "predictions_lr = clf.predict(X_test_lr)\n",
    "\n",
    "# Print the accuracy from the testing data.\n",
    "print(accuracy_score(predictions_lr, y_test_lr))"
   ]
  },
  {
   "cell_type": "code",
   "execution_count": 18,
   "metadata": {
    "scrolled": true
   },
   "outputs": [
    {
     "data": {
      "image/png": "[encoded data removed]",
      "text/plain": [
       "<Figure size 360x360 with 1 Axes>"
      ]
     },
     "metadata": {
      "needs_background": "light"
     },
     "output_type": "display_data"
    },
    {
     "name": "stdout",
     "output_type": "stream",
     "text": [
      "              precision    recall  f1-score   support\n",
      "\n",
      "           0       0.74      0.85      0.79      7812\n",
      "           1       0.67      0.51      0.58      4688\n",
      "\n",
      "    accuracy                           0.72     12500\n",
      "   macro avg       0.71      0.68      0.68     12500\n",
      "weighted avg       0.71      0.72      0.71     12500\n",
      "\n"
     ]
    },
    {
     "data": {
      "text/html": [
       "<div>\n",
       "<style scoped>\n",
       "    .dataframe tbody tr th:only-of-type {\n",
       "        vertical-align: middle;\n",
       "    }\n",
       "\n",
       "    .dataframe tbody tr th {\n",
       "        vertical-align: top;\n",
       "    }\n",
       "\n",
       "    .dataframe thead th {\n",
       "        text-align: right;\n",
       "    }\n",
       "</style>\n",
       "<table border=\"1\" class=\"dataframe\">\n",
       "  <thead>\n",
       "    <tr style=\"text-align: right;\">\n",
       "      <th></th>\n",
       "      <th>Predict: NO</th>\n",
       "      <th>Predict: YES</th>\n",
       "    </tr>\n",
       "  </thead>\n",
       "  <tbody>\n",
       "    <tr>\n",
       "      <th>Actual: NO</th>\n",
       "      <td>6636</td>\n",
       "      <td>1176</td>\n",
       "    </tr>\n",
       "    <tr>\n",
       "      <th>Actual: YES</th>\n",
       "      <td>2307</td>\n",
       "      <td>2381</td>\n",
       "    </tr>\n",
       "  </tbody>\n",
       "</table>\n",
       "</div>"
      ],
      "text/plain": [
       "             Predict: NO  Predict: YES\n",
       "Actual: NO          6636          1176\n",
       "Actual: YES         2307          2381"
      ]
     },
     "execution_count": 18,
     "metadata": {},
     "output_type": "execute_result"
    }
   ],
   "source": [
    "matrix, report = evaluate_classifier(clf, X_test_lr, y_test_lr)\n",
    "print(report)\n",
    "matrix"
   ]
  },
  {
   "cell_type": "markdown",
   "metadata": {},
   "source": [
    "### Use Lasso / Ridge Regression to identify feature significance and predictive power. "
   ]
  },
  {
   "cell_type": "code",
   "execution_count": 19,
   "metadata": {
    "scrolled": true
   },
   "outputs": [
    {
     "name": "stdout",
     "output_type": "stream",
     "text": [
      "[-0.0, -0.0, -0.0, -0.0, 0.0, 0.0, 0.0, 0.0, -0.0, 0.02504163987369242, -0.0, -0.007792376923622151, 0.0, -0.0, 0.0]\n"
     ]
    },
    {
     "data": {
      "image/png": "[encoded data removed]",
      "text/plain": [
       "<Figure size 864x288 with 1 Axes>"
      ]
     },
     "metadata": {
      "needs_background": "light"
     },
     "output_type": "display_data"
    }
   ],
   "source": [
    "# Identify key features with Lasso Regression\n",
    "lasso = Lasso(alpha=0.1)\n",
    "lasso_coef = lasso.fit(X_train_lr, y_train_lr).coef_\n",
    "print(list(lasso_coef))\n",
    "\n",
    "\n",
    "_ = plt.figure(figsize=(12,4))\n",
    "_ = plt.plot(range(len(features)), lasso_coef, marker='.', linestyle=':')\n",
    "_ = plt.xticks(range(len(features)), features, rotation=90)\n",
    "_ = plt.ylabel('Coefficients')"
   ]
  },
  {
   "cell_type": "markdown",
   "metadata": {},
   "source": [
    "### Insights: \n",
    "\n",
    "#### The Lasso regression indicates two features that have significant predictive power. The positive correlation between King's Landing and user retention indicates that users in King's Landing are much more likely to continue using the app. It is worth exploring reasons behind the popularity of the app in King's Landing. \n",
    "#### Ultimate Inc. should focus their marketing and promotional offers on cities other than King's Landing. "
   ]
  },
  {
   "cell_type": "markdown",
   "metadata": {},
   "source": [
    "#### Additionaly, the negative correlation between users with Androids indicates that Android user's are more likely to not be retained.\n",
    "#### Perhaps there is a bug in the app that only android users experience. It is worth exploring the functionality of the app on Android devices to see if there is an issue that is preventing or deterring Android users from using the app. "
   ]
  },
  {
   "cell_type": "markdown",
   "metadata": {},
   "source": [
    "### Now, let's explore the predictive power of 'days_active' with regards to user retention."
   ]
  },
  {
   "cell_type": "code",
   "execution_count": 20,
   "metadata": {},
   "outputs": [],
   "source": [
    "color_code = rider_df.retained.map({1:\"blue\", 0:\"red\"})"
   ]
  },
  {
   "cell_type": "code",
   "execution_count": 21,
   "metadata": {
    "scrolled": true
   },
   "outputs": [
    {
     "data": {
      "image/png": "[encoded data removed]",
      "text/plain": [
       "<Figure size 864x72 with 1 Axes>"
      ]
     },
     "metadata": {
      "needs_background": "light"
     },
     "output_type": "display_data"
    }
   ],
   "source": [
    "_ = plt.figure(figsize=(12,1))\n",
    "_ = plt.scatter(rider_df.days_active, rider_df.retained, color=color_code, alpha=0.1, marker='.')\n",
    "#_ = plt.axvline(30)\n",
    "_ = plt.xlabel('Retained')\n",
    "_ = plt.ylabel('Number of Days Active')\n",
    "_ = plt.yticks([0,1], ['No', 'Yes'])"
   ]
  },
  {
   "cell_type": "markdown",
   "metadata": {},
   "source": [
    "#### All users that have been retained have been active in the app anywhere between 120 and 180 days. "
   ]
  },
  {
   "cell_type": "markdown",
   "metadata": {},
   "source": [
    "### Train another Logistic regression model to observe the predictive power of the \"days_active\" column created from the time delta between user signup_date and last_ride_date."
   ]
  },
  {
   "cell_type": "code",
   "execution_count": 22,
   "metadata": {},
   "outputs": [],
   "source": [
    "# include number of days active to observe increase in models predictive power\n",
    "\n",
    "# specify feature columns\n",
    "features_2 = ['avg_dist', 'avg_rating_by_driver', 'avg_rating_of_driver', 'avg_surge',\n",
    "            'surge_pct', 'trips_in_first_30_days', 'ultimate_black_user', 'weekday_pct', \n",
    "            'city_Astapor', \"city_Kings_Landing\", 'city_Winterfell', 'phone_Android',\n",
    "            'phone_iPhone', 'phone_other', 'days_since_signup', 'days_active']"
   ]
  },
  {
   "cell_type": "code",
   "execution_count": 23,
   "metadata": {},
   "outputs": [],
   "source": [
    "# separate predictors and targets\n",
    "predictors_lr_2 = rider_df[features_2].values\n",
    "targets_lr_2 = (rider_df.retained).values"
   ]
  },
  {
   "cell_type": "code",
   "execution_count": 24,
   "metadata": {},
   "outputs": [],
   "source": [
    "# scale predictors\n",
    "predictors_lr_2 = scale(predictors_lr_2)"
   ]
  },
  {
   "cell_type": "code",
   "execution_count": 25,
   "metadata": {},
   "outputs": [
    {
     "name": "stdout",
     "output_type": "stream",
     "text": [
      "0.99512\n"
     ]
    }
   ],
   "source": [
    "# Split the data into a training and test set.\n",
    "X_train_lr_2, X_test_lr_2, y_train_lr_2, y_test_lr_2 = train_test_split(predictors_lr_2, targets_lr_2, test_size=0.25, random_state=5)\n",
    "\n",
    "# instantiate an L.R. Classifier\n",
    "clf_2 = LogisticRegression(solver='lbfgs')\n",
    "\n",
    "# Fit the model on the trainng data.\n",
    "clf_2.fit(X_train_lr_2, y_train_lr_2)\n",
    "\n",
    "# predict on test set\n",
    "predictions_lr_2 = clf_2.predict(X_test_lr_2)\n",
    "\n",
    "# Print the accuracy from the testing data.\n",
    "print(accuracy_score(predictions_lr_2, y_test_lr_2))"
   ]
  },
  {
   "cell_type": "code",
   "execution_count": 26,
   "metadata": {},
   "outputs": [
    {
     "data": {
      "image/png": "[encoded data removed]",
      "text/plain": [
       "<Figure size 360x360 with 1 Axes>"
      ]
     },
     "metadata": {
      "needs_background": "light"
     },
     "output_type": "display_data"
    },
    {
     "name": "stdout",
     "output_type": "stream",
     "text": [
      "              precision    recall  f1-score   support\n",
      "\n",
      "           0       1.00      1.00      1.00      7812\n",
      "           1       0.99      0.99      0.99      4688\n",
      "\n",
      "    accuracy                           1.00     12500\n",
      "   macro avg       0.99      0.99      0.99     12500\n",
      "weighted avg       1.00      1.00      1.00     12500\n",
      "\n"
     ]
    },
    {
     "data": {
      "text/html": [
       "<div>\n",
       "<style scoped>\n",
       "    .dataframe tbody tr th:only-of-type {\n",
       "        vertical-align: middle;\n",
       "    }\n",
       "\n",
       "    .dataframe tbody tr th {\n",
       "        vertical-align: top;\n",
       "    }\n",
       "\n",
       "    .dataframe thead th {\n",
       "        text-align: right;\n",
       "    }\n",
       "</style>\n",
       "<table border=\"1\" class=\"dataframe\">\n",
       "  <thead>\n",
       "    <tr style=\"text-align: right;\">\n",
       "      <th></th>\n",
       "      <th>Predict: NO</th>\n",
       "      <th>Predict: YES</th>\n",
       "    </tr>\n",
       "  </thead>\n",
       "  <tbody>\n",
       "    <tr>\n",
       "      <th>Actual: NO</th>\n",
       "      <td>7777</td>\n",
       "      <td>35</td>\n",
       "    </tr>\n",
       "    <tr>\n",
       "      <th>Actual: YES</th>\n",
       "      <td>26</td>\n",
       "      <td>4662</td>\n",
       "    </tr>\n",
       "  </tbody>\n",
       "</table>\n",
       "</div>"
      ],
      "text/plain": [
       "             Predict: NO  Predict: YES\n",
       "Actual: NO          7777            35\n",
       "Actual: YES           26          4662"
      ]
     },
     "execution_count": 26,
     "metadata": {},
     "output_type": "execute_result"
    }
   ],
   "source": [
    "# evaluate the classifier\n",
    "matrix, report = evaluate_classifier(clf_2, X_test_lr_2, y_test_lr_2)\n",
    "print(report)\n",
    "matrix"
   ]
  },
  {
   "cell_type": "code",
   "execution_count": 27,
   "metadata": {},
   "outputs": [
    {
     "name": "stdout",
     "output_type": "stream",
     "text": [
      "[-0.0, -0.0, -0.0, 0.0, 0.0, 0.0, 0.0, -0.0, -0.0, 0.0, -0.0, -0.0, 0.0, 0.0, -0.0, 0.293804649180013]\n"
     ]
    },
    {
     "data": {
      "image/png": "[encoded data removed]",
      "text/plain": [
       "<Figure size 864x288 with 1 Axes>"
      ]
     },
     "metadata": {
      "needs_background": "light"
     },
     "output_type": "display_data"
    }
   ],
   "source": [
    "lasso_2 = Lasso(alpha=0.1)\n",
    "lasso_coef_2 = lasso.fit(X_train_lr_2, y_train_lr_2).coef_\n",
    "print(list(lasso_coef_2))\n",
    "\n",
    "\n",
    "_ = plt.figure(figsize=(12,4))\n",
    "_ = plt.plot(range(len(features_2)), lasso_coef_2, marker='.', linestyle=':')\n",
    "_ = plt.xticks(range(len(features_2)), features_2, rotation=90)\n",
    "_ = plt.ylabel('Coefficients')"
   ]
  },
  {
   "cell_type": "markdown",
   "metadata": {},
   "source": [
    "#### It appears that the model performs extremely well when the number of days active is included in the features. The results of the Lasso Regression also indicates that the correlation coefficient of  'days_active' dominates every other feature. "
   ]
  },
  {
   "cell_type": "markdown",
   "metadata": {},
   "source": [
    "#### It is logical to create this column from the provided dates, because users who have been active for longer in the app should be more likely to continue using Ultimate Inc.'s service. If for some reason this data is unavailable, the model still performs well when predicting user retention. "
   ]
  },
  {
   "cell_type": "markdown",
   "metadata": {},
   "source": [
    "### Model Caveats and Future Improvements:\n",
    "\n",
    "#### It is in Ultimate Inc.'s best interest to minimize the number of False Positives generated by the model. Ultimate Inc. should use these predictive models to identify which customers are likely to churn. With this information, Ultimate Inc. can target their marketing and promotional offers towards the customers that predicted not to be retained. \n",
    "\n",
    "#### The False Positive predictions represent customers that were predicted to be retained, but actually stopped using the app in reality. The False Positive users will be excluded from any targeted marketing and promotional offers. \n",
    "\n",
    "#### The best model will minimize the number of false positives in order to effectively predict all users that will not be retained. \n",
    "\n",
    "#### It is OK for the model to have False negative predictions. False Negatives represent the users that were predicted to churn, but were actually retained in reality. The worst case that would happen regarding these users is that they will get unecessary promotional offers but still be retained. "
   ]
  },
  {
   "cell_type": "code",
   "execution_count": null,
   "metadata": {},
   "outputs": [],
   "source": []
  }
 ],
 "metadata": {
  "kernelspec": {
   "display_name": "Python 3",
   "language": "python",
   "name": "python3"
  },
  "language_info": {
   "codemirror_mode": {
    "name": "ipython",
    "version": 3
   },
   "file_extension": ".py",
   "mimetype": "text/x-python",
   "name": "python",
   "nbconvert_exporter": "python",
   "pygments_lexer": "ipython3",
   "version": "3.5.6"
  }
 },
 "nbformat": 4,
 "nbformat_minor": 4
}
