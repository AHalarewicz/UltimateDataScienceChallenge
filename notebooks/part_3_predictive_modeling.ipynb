{
 "cells": [
  {
   "cell_type": "code",
   "execution_count": 1,
   "metadata": {},
   "outputs": [],
   "source": [
    "import json\n",
    "import pandas as pd\n",
    "from datetime import datetime, timedelta\n",
    "from sklearn.preprocessing import scale\n",
    "from sklearn.model_selection import train_test_split\n",
    "from sklearn.ensemble import RandomForestClassifier\n",
    "from sklearn.linear_model import LogisticRegression\n",
    "from sklearn.metrics import accuracy_score, confusion_matrix\n",
    "from sklearn.metrics import roc_curve, roc_auc_score, classification_report\n",
    "import matplotlib.pyplot as plt\n",
    "import seaborn as sns"
   ]
  },
  {
   "cell_type": "markdown",
   "metadata": {},
   "source": [
    "#### 1. Explore correlation coefficients and lasso regression to determine which factors are best for predicting retention."
   ]
  },
  {
   "cell_type": "markdown",
   "metadata": {},
   "source": [
    "#### 2. Create a Logistic Regression Model to predict rider retention"
   ]
  },
  {
   "cell_type": "code",
   "execution_count": 2,
   "metadata": {},
   "outputs": [],
   "source": [
    "#location of data file\n",
    "file_path = '../ultimate_challenge/ultimate_data_challenge.json'"
   ]
  },
  {
   "cell_type": "code",
   "execution_count": 3,
   "metadata": {
    "scrolled": false
   },
   "outputs": [
    {
     "name": "stdout",
     "output_type": "stream",
     "text": [
      "<class 'pandas.core.frame.DataFrame'>\n",
      "RangeIndex: 50000 entries, 0 to 49999\n",
      "Data columns (total 12 columns):\n",
      "avg_dist                  50000 non-null float64\n",
      "avg_rating_by_driver      49799 non-null float64\n",
      "avg_rating_of_driver      41878 non-null float64\n",
      "avg_surge                 50000 non-null float64\n",
      "city                      50000 non-null object\n",
      "last_trip_date            50000 non-null object\n",
      "phone                     49604 non-null object\n",
      "signup_date               50000 non-null object\n",
      "surge_pct                 50000 non-null float64\n",
      "trips_in_first_30_days    50000 non-null int64\n",
      "ultimate_black_user       50000 non-null bool\n",
      "weekday_pct               50000 non-null float64\n",
      "dtypes: bool(1), float64(6), int64(1), object(4)\n",
      "memory usage: 4.2+ MB\n"
     ]
    }
   ],
   "source": [
    "json_data = json.load(open(file_path))\n",
    "rider_df = pd.DataFrame(json_data)\n",
    "rider_df.info()"
   ]
  },
  {
   "cell_type": "code",
   "execution_count": null,
   "metadata": {},
   "outputs": [],
   "source": []
  },
  {
   "cell_type": "markdown",
   "metadata": {},
   "source": [
    "### Clean Data"
   ]
  },
  {
   "cell_type": "code",
   "execution_count": 4,
   "metadata": {
    "scrolled": true
   },
   "outputs": [
    {
     "data": {
      "text/plain": [
       "{'Astapor', 'Kings_Landing', 'Winterfell'}"
      ]
     },
     "execution_count": 4,
     "metadata": {},
     "output_type": "execute_result"
    }
   ],
   "source": [
    "# convert last_trip_date and signup_date columns to datetime objects\n",
    "rider_df.last_trip_date = pd.to_datetime(rider_df.last_trip_date)\n",
    "rider_df.signup_date = pd.to_datetime(rider_df.signup_date)\n",
    "\n",
    "# fill rows containing missing ratings\n",
    "# compute average rating given by all drivers\n",
    "mean_rating_by_driver = rider_df.avg_rating_by_driver.mean()\n",
    "\n",
    "# fill average rating by driver with average rating of driver.\n",
    "rider_df.avg_rating_by_driver = rider_df.avg_rating_by_driver.fillna(rider_df.avg_rating_of_driver)\n",
    "\n",
    "# fill remaining missing values with oringinal mean of ratings given by drivers\n",
    "rider_df.avg_rating_by_driver = rider_df.avg_rating_by_driver.fillna(mean_rating_by_driver)\n",
    "\n",
    "#\n",
    "rider_df.avg_rating_of_driver = rider_df.avg_rating_of_driver.fillna(rider_df.avg_rating_by_driver)\n",
    "\n",
    "# if iPhone or Android not specified, insert \"other\"\n",
    "rider_df.phone = rider_df.phone.fillna('other')\n",
    "\n",
    "# fix \"King's Landing\"\n",
    "rider_df.city = rider_df.city.replace(to_replace=\"King's Landing\", value=\"Kings_Landing\")\n",
    "set(rider_df.city)"
   ]
  },
  {
   "cell_type": "code",
   "execution_count": 5,
   "metadata": {},
   "outputs": [],
   "source": [
    "def rode_recently(last_ride):\n",
    "    \"\"\"\n",
    "    Param: date of last activity\n",
    "    Used with map() to compute if user was active in the last 30 days\n",
    "    Returns: boolean (1 or 0)\n",
    "    \"\"\"\n",
    "    current_day = rider_df.last_trip_date.max()\n",
    "    last_30_days = current_day - timedelta(days=30)\n",
    "    \n",
    "    return (last_ride>=last_30_days)*1"
   ]
  },
  {
   "cell_type": "code",
   "execution_count": 6,
   "metadata": {},
   "outputs": [
    {
     "name": "stdout",
     "output_type": "stream",
     "text": [
      "Percent of riders retained:  0.37608\n",
      "Total riders retained:  18804 of 50000\n"
     ]
    }
   ],
   "source": [
    "# create column describing retention of users\n",
    "rider_df['retained'] = rider_df.last_trip_date.map(rode_recently)\n",
    "print(\"Percent of riders retained: \",rider_df.retained.mean())\n",
    "print(\"Total riders retained: \", rider_df.retained.sum(), \"of\", len(rider_df.retained))"
   ]
  },
  {
   "cell_type": "code",
   "execution_count": 7,
   "metadata": {},
   "outputs": [],
   "source": [
    "# define current day outside of the function for efficiency when mapping\n",
    "current_day = rider_df.last_trip_date.max()\n",
    "def days_since(date):\n",
    "    \"\"\"\n",
    "    returns the number of days since a given date\n",
    "    \"\"\"\n",
    "    return (current_day - date).days\n",
    "    \n",
    "# create 'days_since' columns\n",
    "#rider_df['days_since_last_trip'] = rider_df.last_trip_date.map(days_since) #this is a direct indicator of the value we are trying to predict\n",
    "rider_df['days_since_signup'] = rider_df.signup_date.map(days_since)\n",
    "\n",
    "# compute number of days user has been active\n",
    "rider_df['days_active'] = (rider_df.last_trip_date - rider_df.signup_date).map(lambda delta: delta.days)\n"
   ]
  },
  {
   "cell_type": "code",
   "execution_count": 8,
   "metadata": {},
   "outputs": [
    {
     "name": "stdout",
     "output_type": "stream",
     "text": [
      "<class 'pandas.core.frame.DataFrame'>\n",
      "RangeIndex: 50000 entries, 0 to 49999\n",
      "Data columns (total 17 columns):\n",
      "avg_dist                  50000 non-null float64\n",
      "avg_rating_by_driver      50000 non-null float64\n",
      "avg_rating_of_driver      50000 non-null float64\n",
      "avg_surge                 50000 non-null float64\n",
      "surge_pct                 50000 non-null float64\n",
      "trips_in_first_30_days    50000 non-null int64\n",
      "ultimate_black_user       50000 non-null int64\n",
      "weekday_pct               50000 non-null float64\n",
      "retained                  50000 non-null int64\n",
      "days_since_signup         50000 non-null int64\n",
      "days_active               50000 non-null int64\n",
      "city_Astapor              50000 non-null uint8\n",
      "city_Kings_Landing        50000 non-null uint8\n",
      "city_Winterfell           50000 non-null uint8\n",
      "phone_Android             50000 non-null uint8\n",
      "phone_iPhone              50000 non-null uint8\n",
      "phone_other               50000 non-null uint8\n",
      "dtypes: float64(6), int64(5), uint8(6)\n",
      "memory usage: 4.5 MB\n"
     ]
    }
   ],
   "source": [
    "def replace_with_dummies(df, columns):\n",
    "    \"\"\"\n",
    "    Takes a df and a list of categorial columns with discrete values\n",
    "    Returns a df with categorical columns replaced with binary columns\n",
    "    \"\"\"\n",
    "    for col in columns:\n",
    "        temp_df= df[[col]]\n",
    "        temp_df = pd.get_dummies(temp_df)\n",
    "        df[temp_df.columns] = temp_df\n",
    "        df = df.drop(col, axis=1)\n",
    "    return df\n",
    "\n",
    "# one hot encode categorical columns\n",
    "rider_df = replace_with_dummies(rider_df, ['city', 'phone'])\n",
    "\n",
    "# convert ultimate_black_user to numberic boolean column\n",
    "rider_df.ultimate_black_user = rider_df.ultimate_black_user*1\n",
    "\n",
    "# drop datetime columns\n",
    "rider_df = rider_df.drop(['last_trip_date', 'signup_date'], axis=1)\n",
    "# inspect the dataframe\n",
    "rider_df.info()\n"
   ]
  },
  {
   "cell_type": "code",
   "execution_count": null,
   "metadata": {},
   "outputs": [],
   "source": []
  },
  {
   "cell_type": "markdown",
   "metadata": {},
   "source": [
    "### Train Random Forrest Classifier"
   ]
  },
  {
   "cell_type": "code",
   "execution_count": 9,
   "metadata": {},
   "outputs": [],
   "source": [
    "# specify predictors and targets\n",
    "predictors_rf = rider_df.drop(['retained'], axis=\"columns\").values\n",
    "targets_rf = rider_df.retained.values\n",
    "\n",
    "# split train and test data\n",
    "X_train_rf, X_test_rf, y_train_rf, y_test_rf = train_test_split(predictors_rf, targets_rf, test_size=0.25, random_state=5)\n"
   ]
  },
  {
   "cell_type": "code",
   "execution_count": 10,
   "metadata": {},
   "outputs": [
    {
     "name": "stdout",
     "output_type": "stream",
     "text": [
      "evaluating Random Forrest model performance\n",
      "0.88488\n"
     ]
    }
   ],
   "source": [
    "# instantiate random forest classifier\n",
    "random_forest = RandomForestClassifier(max_depth=True)\n",
    "\n",
    "# fit model to training data\n",
    "random_forest = random_forest.fit(X_train_rf, y_train_rf)\n",
    "\n",
    "# test model performance\n",
    "print('evaluating Random Forrest model performance')\n",
    "score_rf = random_forest.score(X_test_rf, y_test_rf)\n",
    "print(score_rf)\n"
   ]
  },
  {
   "cell_type": "code",
   "execution_count": null,
   "metadata": {},
   "outputs": [],
   "source": []
  },
  {
   "cell_type": "code",
   "execution_count": 11,
   "metadata": {},
   "outputs": [],
   "source": [
    "def evaluate_classifier(model, X_test, y_test):\n",
    "    \n",
    "    # get predictions\n",
    "    y_pred = model.predict(X_test)\n",
    "    \n",
    "    # Compute predicted probabilities: y_pred_prob\n",
    "    y_pred_prob = model.predict_proba(X_test)[:,1]\n",
    "    \n",
    "    # compute Area under the curve\n",
    "    roc_auc = roc_auc_score(y_test, y_pred)\n",
    "    \n",
    "    # Generate ROC curve values: fpr, tpr, thresholds\n",
    "    fpr, tpr, thresholds = roc_curve(y_test, y_pred_prob)\n",
    "    \n",
    "    # plot ROC curve\n",
    "    title = 'ROC Curve:  AUC =' + str(roc_auc.round(3))\n",
    "    _ = plt.figure(figsize=(5,5))\n",
    "    _ = plt.plot(fpr, tpr)\n",
    "    _ = plt.plot([0,1], [0,1], 'k--')\n",
    "    _ = plt.xlabel('False Positive Rate (FPR)')\n",
    "    _ = plt.ylabel('True Positive Rate (TPR)')\n",
    "    _ = plt.title(title)\n",
    "    _ = plt.legend(['predictive power','random vector'])\n",
    "    plt.show()   \n",
    "    \n",
    "    \n",
    "    # construct confusion matrix\n",
    "    conf_matrx = pd.DataFrame(confusion_matrix(y_test, y_pred))\n",
    "    conf_matrx.columns = ['Predict: NO', 'Predict: YES']\n",
    "    conf_matrx.index = ['Actual: NO', 'Actual: YES']\n",
    "    \n",
    "    report = classification_report(y_test, y_pred)\n",
    "    \n",
    "    return conf_matrx, report"
   ]
  },
  {
   "cell_type": "code",
   "execution_count": 12,
   "metadata": {},
   "outputs": [
    {
     "data": {
      "image/png": "[encoded data removed]",
      "text/plain": [
       "<Figure size 360x360 with 1 Axes>"
      ]
     },
     "metadata": {
      "needs_background": "light"
     },
     "output_type": "display_data"
    },
    {
     "name": "stdout",
     "output_type": "stream",
     "text": [
      "              precision    recall  f1-score   support\n",
      "\n",
      "           0       0.86      0.97      0.91      7812\n",
      "           1       0.93      0.75      0.83      4688\n",
      "\n",
      "    accuracy                           0.88     12500\n",
      "   macro avg       0.90      0.86      0.87     12500\n",
      "weighted avg       0.89      0.88      0.88     12500\n",
      "\n"
     ]
    },
    {
     "data": {
      "text/html": [
       "<div>\n",
       "<style scoped>\n",
       "    .dataframe tbody tr th:only-of-type {\n",
       "        vertical-align: middle;\n",
       "    }\n",
       "\n",
       "    .dataframe tbody tr th {\n",
       "        vertical-align: top;\n",
       "    }\n",
       "\n",
       "    .dataframe thead th {\n",
       "        text-align: right;\n",
       "    }\n",
       "</style>\n",
       "<table border=\"1\" class=\"dataframe\">\n",
       "  <thead>\n",
       "    <tr style=\"text-align: right;\">\n",
       "      <th></th>\n",
       "      <th>Predict: NO</th>\n",
       "      <th>Predict: YES</th>\n",
       "    </tr>\n",
       "  </thead>\n",
       "  <tbody>\n",
       "    <tr>\n",
       "      <th>Actual: NO</th>\n",
       "      <td>7565</td>\n",
       "      <td>247</td>\n",
       "    </tr>\n",
       "    <tr>\n",
       "      <th>Actual: YES</th>\n",
       "      <td>1192</td>\n",
       "      <td>3496</td>\n",
       "    </tr>\n",
       "  </tbody>\n",
       "</table>\n",
       "</div>"
      ],
      "text/plain": [
       "             Predict: NO  Predict: YES\n",
       "Actual: NO          7565           247\n",
       "Actual: YES         1192          3496"
      ]
     },
     "execution_count": 12,
     "metadata": {},
     "output_type": "execute_result"
    }
   ],
   "source": [
    "matrix, report = evaluate_classifier(random_forest, X_test_rf, y_test_rf)\n",
    "print(report)\n",
    "matrix"
   ]
  },
  {
   "cell_type": "markdown",
   "metadata": {},
   "source": [
    "### Train Logistic Regression Classifier"
   ]
  },
  {
   "cell_type": "code",
   "execution_count": 13,
   "metadata": {},
   "outputs": [
    {
     "ename": "ValueError",
     "evalue": "invalid literal for int() with base 10: 'Stop and skip next cell'",
     "output_type": "error",
     "traceback": [
      "\u001b[0;31m---------------------------------------------------------------------------\u001b[0m",
      "\u001b[0;31mValueError\u001b[0m                                Traceback (most recent call last)",
      "\u001b[0;32m<ipython-input-13-4e806b883daa>\u001b[0m in \u001b[0;36m<module>\u001b[0;34m\u001b[0m\n\u001b[0;32m----> 1\u001b[0;31m \u001b[0mint\u001b[0m\u001b[0;34m(\u001b[0m\u001b[0;34m\"Stop and skip next cell\"\u001b[0m\u001b[0;34m)\u001b[0m\u001b[0;34m\u001b[0m\u001b[0m\n\u001b[0m",
      "\u001b[0;31mValueError\u001b[0m: invalid literal for int() with base 10: 'Stop and skip next cell'"
     ]
    }
   ],
   "source": [
    "int(\"Stop and skip next cell\")"
   ]
  },
  {
   "cell_type": "code",
   "execution_count": null,
   "metadata": {},
   "outputs": [],
   "source": [
    "features = ['avg_dist', 'avg_rating_by_driver', 'avg_rating_of_driver', 'avg_surge',\n",
    "       'surge_pct', 'trips_in_first_30_days',\n",
    "       'ultimate_black_user', 'weekday_pct', 'city_Astapor',\n",
    "       \"city_Kings_Landing\", 'city_Winterfell', 'phone_Android',\n",
    "       'phone_iPhone', 'phone_other',\n",
    "       'days_since_signup', 'days_active']"
   ]
  },
  {
   "cell_type": "code",
   "execution_count": 14,
   "metadata": {},
   "outputs": [],
   "source": [
    "# specify feature columns\n",
    "features = ['avg_dist', 'avg_rating_by_driver', 'avg_rating_of_driver', 'avg_surge',\n",
    "       'surge_pct', 'trips_in_first_30_days',\n",
    "       'ultimate_black_user', 'weekday_pct', 'city_Astapor',\n",
    "       \"city_Kings_Landing\", 'city_Winterfell', 'phone_Android',\n",
    "       'phone_iPhone', 'phone_other',\n",
    "       'days_since_signup']"
   ]
  },
  {
   "cell_type": "code",
   "execution_count": 15,
   "metadata": {},
   "outputs": [],
   "source": [
    "\n",
    "\n",
    "# separate predictors and targets\n",
    "predictors_lr = rider_df[features].values\n",
    "targets_lr = (rider_df.retained).values"
   ]
  },
  {
   "cell_type": "code",
   "execution_count": 16,
   "metadata": {},
   "outputs": [],
   "source": [
    "# scale predictors\n",
    "predictors_lr = scale(predictors_lr)"
   ]
  },
  {
   "cell_type": "code",
   "execution_count": 17,
   "metadata": {},
   "outputs": [
    {
     "name": "stdout",
     "output_type": "stream",
     "text": [
      "0.72136\n"
     ]
    }
   ],
   "source": [
    "# Split the data into a training and test set.\n",
    "X_train_lr, X_test_lr, y_train_lr, y_test_lr = train_test_split(predictors_lr, targets_lr, test_size=0.25, random_state=5)\n",
    "\n",
    "# instantiate an L.R. Classifier\n",
    "clf = LogisticRegression(solver='lbfgs')\n",
    "\n",
    "# Fit the model on the trainng data.\n",
    "clf.fit(X_train_lr, y_train_lr)\n",
    "\n",
    "# predict on test set\n",
    "predictions_lr = clf.predict(X_test_lr)\n",
    "\n",
    "# Print the accuracy from the testing data.\n",
    "print(accuracy_score(predictions_lr, y_test_lr))"
   ]
  },
  {
   "cell_type": "code",
   "execution_count": 18,
   "metadata": {
    "scrolled": true
   },
   "outputs": [
    {
     "data": {
      "image/png": "[encoded data removed]",
      "text/plain": [
       "<Figure size 360x360 with 1 Axes>"
      ]
     },
     "metadata": {
      "needs_background": "light"
     },
     "output_type": "display_data"
    },
    {
     "name": "stdout",
     "output_type": "stream",
     "text": [
      "              precision    recall  f1-score   support\n",
      "\n",
      "           0       0.74      0.85      0.79      7812\n",
      "           1       0.67      0.51      0.58      4688\n",
      "\n",
      "    accuracy                           0.72     12500\n",
      "   macro avg       0.71      0.68      0.68     12500\n",
      "weighted avg       0.71      0.72      0.71     12500\n",
      "\n"
     ]
    },
    {
     "data": {
      "text/html": [
       "<div>\n",
       "<style scoped>\n",
       "    .dataframe tbody tr th:only-of-type {\n",
       "        vertical-align: middle;\n",
       "    }\n",
       "\n",
       "    .dataframe tbody tr th {\n",
       "        vertical-align: top;\n",
       "    }\n",
       "\n",
       "    .dataframe thead th {\n",
       "        text-align: right;\n",
       "    }\n",
       "</style>\n",
       "<table border=\"1\" class=\"dataframe\">\n",
       "  <thead>\n",
       "    <tr style=\"text-align: right;\">\n",
       "      <th></th>\n",
       "      <th>Predict: NO</th>\n",
       "      <th>Predict: YES</th>\n",
       "    </tr>\n",
       "  </thead>\n",
       "  <tbody>\n",
       "    <tr>\n",
       "      <th>Actual: NO</th>\n",
       "      <td>6636</td>\n",
       "      <td>1176</td>\n",
       "    </tr>\n",
       "    <tr>\n",
       "      <th>Actual: YES</th>\n",
       "      <td>2307</td>\n",
       "      <td>2381</td>\n",
       "    </tr>\n",
       "  </tbody>\n",
       "</table>\n",
       "</div>"
      ],
      "text/plain": [
       "             Predict: NO  Predict: YES\n",
       "Actual: NO          6636          1176\n",
       "Actual: YES         2307          2381"
      ]
     },
     "execution_count": 18,
     "metadata": {},
     "output_type": "execute_result"
    }
   ],
   "source": [
    "matrix, report = evaluate_classifier(clf, X_test_lr, y_test_lr)\n",
    "print(report)\n",
    "matrix"
   ]
  },
  {
   "cell_type": "markdown",
   "metadata": {},
   "source": [
    "## Include 'Days_active' columns and see noticable difference in predictive power"
   ]
  },
  {
   "cell_type": "markdown",
   "metadata": {},
   "source": [
    "### Create AUROC graph and find other meaningful methods of scoring. We are interested in targeting users that dropped the service, but were predicted to retain (False Positives). Find the best way to score this"
   ]
  },
  {
   "cell_type": "markdown",
   "metadata": {},
   "source": [
    "### Use Lasso / Ridge Regression to identify feature significance and predictive power. "
   ]
  },
  {
   "cell_type": "code",
   "execution_count": 19,
   "metadata": {
    "scrolled": false
   },
   "outputs": [
    {
     "name": "stdout",
     "output_type": "stream",
     "text": [
      "[-0.0, -0.0, -0.0, -0.0, 0.0, 0.0, 0.0, 0.0, -0.0, 0.02504163987369242, -0.0, -0.007792376923622151, 0.0, -0.0, 0.0]\n"
     ]
    },
    {
     "data": {
      "image/png": "[encoded data removed]",
      "text/plain": [
       "<Figure size 864x288 with 1 Axes>"
      ]
     },
     "metadata": {
      "needs_background": "light"
     },
     "output_type": "display_data"
    }
   ],
   "source": [
    "from sklearn.linear_model import Lasso\n",
    "\n",
    "lasso = Lasso(alpha=0.1)\n",
    "lasso_coef = lasso.fit(X_train_lr, y_train_lr).coef_\n",
    "print(list(lasso_coef))\n",
    "\n",
    "\n",
    "_ = plt.figure(figsize=(12,4))\n",
    "_ = plt.plot(range(len(features)), lasso_coef, marker='.', linestyle=':')\n",
    "_ = plt.xticks(range(len(features)), features, rotation=90)\n",
    "_ = plt.ylabel('Coefficients')"
   ]
  },
  {
   "cell_type": "code",
   "execution_count": null,
   "metadata": {},
   "outputs": [],
   "source": [
    "neural_net_df = rider_df[['retained', 'days_active']]"
   ]
  },
  {
   "cell_type": "code",
   "execution_count": null,
   "metadata": {},
   "outputs": [],
   "source": [
    "color_code = rider_df.retained.map({1:\"blue\", 0:\"red\"})"
   ]
  },
  {
   "cell_type": "code",
   "execution_count": null,
   "metadata": {},
   "outputs": [],
   "source": [
    "_ = plt.figure(figsize=(12,1))\n",
    "_ = plt.scatter(rider_df.days_active, rider_df.retained, color=color_code, alpha=0.1, marker='.')\n",
    "#_ = plt.axvline(30)\n",
    "_ = plt.xlabel('Retained')\n",
    "_ = plt.ylabel('Number of Days Active')\n",
    "_ = plt.yticks([0,1], ['No', 'Yes'])"
   ]
  },
  {
   "cell_type": "code",
   "execution_count": null,
   "metadata": {},
   "outputs": [],
   "source": [
    "# _ = sns.swarmplot(rider_df.days_active, rider_df.retained)"
   ]
  },
  {
   "cell_type": "code",
   "execution_count": null,
   "metadata": {},
   "outputs": [],
   "source": []
  }
 ],
 "metadata": {
  "kernelspec": {
   "display_name": "Python 3",
   "language": "python",
   "name": "python3"
  },
  "language_info": {
   "codemirror_mode": {
    "name": "ipython",
    "version": 3
   },
   "file_extension": ".py",
   "mimetype": "text/x-python",
   "name": "python",
   "nbconvert_exporter": "python",
   "pygments_lexer": "ipython3",
   "version": "3.5.6"
  }
 },
 "nbformat": 4,
 "nbformat_minor": 4
}
